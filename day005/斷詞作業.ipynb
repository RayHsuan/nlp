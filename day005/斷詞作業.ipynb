{
 "cells": [
  {
   "cell_type": "markdown",
   "metadata": {},
   "source": [
    "## 作業目標: 了解斷詞演算法的背後計算"
   ]
  },
  {
   "cell_type": "markdown",
   "metadata": {},
   "source": [
    "### 根據課程講述的內容, 請計算出下列剩餘所有情況的\n",
    "若有一個人連續觀察到三天水草都是乾燥的(Dry), 則這三天的天氣機率為何？(可參考講義第13頁)\n",
    "(Hint: 共有8種可能機率)\n",
    "\n",
    "```python\n",
    "states = ('sunny', 'rainy')\n",
    "observations = ('dry', 'damp', 'soggy')\n",
    "start_probability = {'sunny': 0.4, 'rainy': 0.6}\n",
    "transition_probability = {'sunny':{'sunny':0.6, 'rainy':0.4},\n",
    "                          'rainy': {'sunny':0.3, 'rainy':0.7}}\n",
    "emission_probatility = {'sunny': {'dry':0.6, 'damp':0.3, 'soggy':0.1},\n",
    "                        'rainy': {'dry':0.1, 'damp':0.4, 'soggy':0.5}}\n",
    "```"
   ]
  },
  {
   "cell_type": "markdown",
   "metadata": {},
   "source": [
    "```\n",
    "觀察狀態 = 'dry', 'dry', 'dry'\n",
    "Sunny, Sunny, Sunny: 0.4*(0.6)*0.6*(0.6)*0.6*(0.6) = 0.031104\n",
    "Rainy, Sunny, Sunny: 0.6*(0.1)*0.3*(0.6)*0.6*(0.6) = 0.003888\n",
    "###<your answers>###\n",
    "Sunny, Rainy, Sunny: 0.4*(0.6)*0.4*(0.1)*0.3*(0.6) = 0.001728\n",
    "Sunny, Sunny, Rainy: 0.4*(0.6)*0.6*(0.6)*0.4*(0.1) = 0.003456\n",
    "Rainy, Rainy, Sunny: 0.6*(0.1)*0.7*(0.1)*0.3*(0.6) = 0.000756\n",
    "Sunny, Rainy, Rainy: 0.4*(0.6)*0.4*(0.1)*0.7*(0.1) = 0.000672\n",
    "Rainy, Sunny, Rainy: 0.6*(0.1)*0.3*(0.6)*0.4*(0.1) = 0.000432\n",
    "Rainy, Rainy, Rainy: 0.6*(0.1)*0.7*(0.1)*0.7*(0.1) = 0.000294\n",
    "\n",
    "最大機率為: Sunny, Sunny, Sunny\n",
    "```"
   ]
  },
  {
   "cell_type": "markdown",
   "metadata": {},
   "source": [
    "### 根據上述條件, 寫出Viterbi應用程式"
   ]
  },
  {
   "cell_type": "code",
   "execution_count": 2,
   "metadata": {},
   "outputs": [],
   "source": [
    "observations = ('dry', 'dry', 'dry') #實際上觀察到的狀態為dry, dry, dry\n",
    "states = ('sunny', 'rainy')\n",
    "start_probability = {'sunny': 0.4, 'rainy': 0.6}\n",
    "transition_probability = {'sunny':{'sunny':0.6, 'rainy':0.4},\n",
    "                          'rainy': {'sunny':0.3, 'rainy':0.7}}\n",
    "emission_probatility = {'sunny': {'dry':0.6, 'damp':0.3, 'soggy':0.1},\n",
    "                        'rainy': {'dry':0.1, 'damp':0.4, 'soggy':0.5}}"
   ]
  },
  {
   "cell_type": "code",
   "execution_count": 14,
   "metadata": {},
   "outputs": [
    {
     "data": {
      "text/plain": [
       "0.6"
      ]
     },
     "execution_count": 14,
     "metadata": {},
     "output_type": "execute_result"
    }
   ],
   "source": [
    "emission_probatility['sunny'][observations[0]]"
   ]
  },
  {
   "cell_type": "code",
   "execution_count": 17,
   "metadata": {},
   "outputs": [],
   "source": [
    "def viterbi(obs, states, start_p, trans_p, emit_p):\n",
    "    V = [{}]\n",
    "    path = {}\n",
    "\n",
    "    # Initialize base cases (t == 0)\n",
    "    for y in states:\n",
    "        ###<your codes>###\n",
    "        tmp[y] = start_p[y] * emit_p[y][obs[0]] # 0應該改為動態應對dry的改變?\n",
    "        \n",
    "    # Run Viterbi for t > 0\n",
    "    for t in range(1,len(obs)):\n",
    "        ###<your codes>###\n",
    "\n",
    "        # Don't need to remember the old paths\n",
    "        path = newpath\n",
    "    \n",
    "    (prob, state) = max([(V[len(obs) - 1][final_state], final_state) for final_state in states])\n",
    "    return (prob, path[state])"
   ]
  },
  {
   "cell_type": "code",
   "execution_count": 5,
   "metadata": {},
   "outputs": [],
   "source": [
    "def viterbi(obs, states, start_p, trans_p, emit_p):\n",
    "    V = [{}]\n",
    "    path = {}\n",
    "\n",
    "    # Initialize base cases (t == 0)\n",
    "    # 1st loop:初始化與發射矩陣運算\n",
    "    for y in states:\n",
    "        V[0][y] = start_p[y] * emit_p[y][obs[0]]\n",
    "        path[y] = [y]\n",
    "        \n",
    "    print(\"1st loop:\",V,path)   \n",
    "    # Run Viterbi for t > 0\n",
    "    # 2nd loop:狀態轉移矩陣和發射矩陣處理\n",
    "    for t in range(1,len(obs)):\n",
    "        V.append({})\n",
    "        newpath = {}\n",
    "        print(\"2nd loop:\",t,V,newpath)\n",
    "        for cur_state in states:\n",
    "            stat = []; stat_value = []\n",
    "            for pre_state in states:\n",
    "                print(pre_state)\n",
    "                stat.append(pre_state)\n",
    "                stat_value.append(V[t-1][pre_state] * trans_p[pre_state][cur_state] * emit_p[cur_state][obs[t]])\n",
    "            \n",
    "            max_v = max(stat_value)\n",
    "            max_stat = stat[stat_value.index(max_v)]\n",
    "            print(\"Max prob:\" + str(max_v), \"state-->\" + (max_stat))\n",
    "            V[t][cur_state] = max_v \n",
    "            print(\"-V-\",V)\n",
    "            newpath[cur_state] = path[max_stat] + [cur_state]\n",
    "            print(\"---\", path[max_stat] , \";\" , [cur_state] ,\"---\")\n",
    "            print(\"newpath:\",newpath)\n",
    "            print(\"---next---\")\n",
    "        # Don't need to remember the old paths\n",
    "        \n",
    "        path = newpath\n",
    "    \n",
    "    print(\"3rd loop:\")\n",
    "    #stat = []; stat_value = []\n",
    "    for final_state in states:\n",
    "        print(\"state:\"+final_state)\n",
    "        stat.append(final_state)\n",
    "        print(\"--V--\",V)\n",
    "        stat_value.append(V[len(obs) - 1][final_state])\n",
    "        \n",
    "    max_v = max(stat_value)\n",
    "    max_stat = stat[stat_value.index(max_v)]\n",
    "    print(\"Max prob:\" + str(max_v), \"state-->\" + (max_stat))\n",
    "    return (max_v, path[max_stat])"
   ]
  },
  {
   "cell_type": "code",
   "execution_count": 6,
   "metadata": {},
   "outputs": [
    {
     "name": "stdout",
     "output_type": "stream",
     "text": [
      "1st loop: [{'sunny': 0.24, 'rainy': 0.06}] {'sunny': ['sunny'], 'rainy': ['rainy']}\n",
      "2nd loop: 1 [{'sunny': 0.24, 'rainy': 0.06}, {}] {}\n",
      "sunny\n",
      "rainy\n",
      "Max prob:0.08639999999999999 state-->sunny\n",
      "-V- [{'sunny': 0.24, 'rainy': 0.06}, {'sunny': 0.08639999999999999}]\n",
      "--- ['sunny'] ; ['sunny'] ---\n",
      "newpath: {'sunny': ['sunny', 'sunny']}\n",
      "---next---\n",
      "sunny\n",
      "rainy\n",
      "Max prob:0.009600000000000001 state-->sunny\n",
      "-V- [{'sunny': 0.24, 'rainy': 0.06}, {'sunny': 0.08639999999999999, 'rainy': 0.009600000000000001}]\n",
      "--- ['sunny'] ; ['rainy'] ---\n",
      "newpath: {'sunny': ['sunny', 'sunny'], 'rainy': ['sunny', 'rainy']}\n",
      "---next---\n",
      "2nd loop: 2 [{'sunny': 0.24, 'rainy': 0.06}, {'sunny': 0.08639999999999999, 'rainy': 0.009600000000000001}, {}] {}\n",
      "sunny\n",
      "rainy\n",
      "Max prob:0.031103999999999993 state-->sunny\n",
      "-V- [{'sunny': 0.24, 'rainy': 0.06}, {'sunny': 0.08639999999999999, 'rainy': 0.009600000000000001}, {'sunny': 0.031103999999999993}]\n",
      "--- ['sunny', 'sunny'] ; ['sunny'] ---\n",
      "newpath: {'sunny': ['sunny', 'sunny', 'sunny']}\n",
      "---next---\n",
      "sunny\n",
      "rainy\n",
      "Max prob:0.0034560000000000003 state-->sunny\n",
      "-V- [{'sunny': 0.24, 'rainy': 0.06}, {'sunny': 0.08639999999999999, 'rainy': 0.009600000000000001}, {'sunny': 0.031103999999999993, 'rainy': 0.0034560000000000003}]\n",
      "--- ['sunny', 'sunny'] ; ['rainy'] ---\n",
      "newpath: {'sunny': ['sunny', 'sunny', 'sunny'], 'rainy': ['sunny', 'sunny', 'rainy']}\n",
      "---next---\n",
      "3rd loop:\n",
      "state:sunny\n",
      "--V-- [{'sunny': 0.24, 'rainy': 0.06}, {'sunny': 0.08639999999999999, 'rainy': 0.009600000000000001}, {'sunny': 0.031103999999999993, 'rainy': 0.0034560000000000003}]\n",
      "state:rainy\n",
      "--V-- [{'sunny': 0.24, 'rainy': 0.06}, {'sunny': 0.08639999999999999, 'rainy': 0.009600000000000001}, {'sunny': 0.031103999999999993, 'rainy': 0.0034560000000000003}]\n",
      "Max prob:0.031103999999999993 state-->sunny\n"
     ]
    }
   ],
   "source": [
    "result = viterbi(observations,\n",
    "                 states,\n",
    "                 start_probability,\n",
    "                 transition_probability,\n",
    "                 emission_probatility)"
   ]
  },
  {
   "cell_type": "code",
   "execution_count": 78,
   "metadata": {},
   "outputs": [
    {
     "data": {
      "text/plain": [
       "(0.031103999999999993, ['sunny', 'sunny', 'sunny'])"
      ]
     },
     "execution_count": 78,
     "metadata": {},
     "output_type": "execute_result"
    }
   ],
   "source": [
    "result"
   ]
  }
 ],
 "metadata": {
  "kernelspec": {
   "display_name": "Python 3",
   "language": "python",
   "name": "python3"
  },
  "language_info": {
   "codemirror_mode": {
    "name": "ipython",
    "version": 3
   },
   "file_extension": ".py",
   "mimetype": "text/x-python",
   "name": "python",
   "nbconvert_exporter": "python",
   "pygments_lexer": "ipython3",
   "version": "3.6.12"
  }
 },
 "nbformat": 4,
 "nbformat_minor": 2
}
